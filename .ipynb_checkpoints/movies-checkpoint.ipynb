{
 "cells": [
  {
   "cell_type": "code",
   "execution_count": 1,
   "metadata": {},
   "outputs": [],
   "source": [
    "# Dependecies \n",
    "%matplotlib inline\n",
    "import matplotlib.pyplot as plt\n",
    "import pandas as pd\n",
    "import numpy as np\n",
    "import os\n",
    "import csv\n",
    "\n"
   ]
  },
  {
   "cell_type": "code",
   "execution_count": 2,
   "metadata": {},
   "outputs": [
    {
     "data": {
      "text/plain": [
       "0                                                 Avatar \n",
       "1               Pirates of the Caribbean: At World's End \n",
       "2                                                Spectre \n",
       "3                                  The Dark Knight Rises \n",
       "4       Star Wars: Episode VII - The Force Awakens    ...\n",
       "5                                            John Carter \n",
       "6                                           Spider-Man 3 \n",
       "7                                                Tangled \n",
       "8                                Avengers: Age of Ultron \n",
       "9                 Harry Potter and the Half-Blood Prince \n",
       "10                    Batman v Superman: Dawn of Justice \n",
       "11                                      Superman Returns \n",
       "12                                     Quantum of Solace \n",
       "13            Pirates of the Caribbean: Dead Man's Chest \n",
       "14                                       The Lone Ranger \n",
       "15                                          Man of Steel \n",
       "16              The Chronicles of Narnia: Prince Caspian \n",
       "17                                          The Avengers \n",
       "18           Pirates of the Caribbean: On Stranger Tides \n",
       "19                                        Men in Black 3 \n",
       "20             The Hobbit: The Battle of the Five Armies \n",
       "21                                The Amazing Spider-Man \n",
       "22                                            Robin Hood \n",
       "23                   The Hobbit: The Desolation of Smaug \n",
       "24                                    The Golden Compass \n",
       "25                                             King Kong \n",
       "26                                               Titanic \n",
       "27                            Captain America: Civil War \n",
       "28                                            Battleship \n",
       "29                                        Jurassic World \n",
       "                              ...                        \n",
       "5013                                              Manito \n",
       "5014                                             Rampage \n",
       "5015                                             Slacker \n",
       "5016                                         Dutch Kills \n",
       "5017                                           Dry Spell \n",
       "5018                                            Flywheel \n",
       "5019                                              Exeter \n",
       "5020                                          The Ridges \n",
       "5021                                     The Puffy Chair \n",
       "5022                                Stories of Our Lives \n",
       "5023                                    Breaking Upwards \n",
       "5024                            All Superheroes Must Die \n",
       "5025                                      Pink Flamingos \n",
       "5026                                               Clean \n",
       "5027                                          The Circle \n",
       "5028                                         Tin Can Man \n",
       "5029                                            The Cure \n",
       "5030                                      On the Downlow \n",
       "5031                        Sanctuary; Quite a Conundrum \n",
       "5032                                                Bang \n",
       "5033                                              Primer \n",
       "5034                                              Cavite \n",
       "5035                                         El Mariachi \n",
       "5036                                     The Mongol King \n",
       "5037                                           Newlyweds \n",
       "5038                             Signed Sealed Delivered \n",
       "5039                           The Following             \n",
       "5040                                A Plague So Pleasant \n",
       "5041                                    Shanghai Calling \n",
       "5042                                   My Date with Drew \n",
       "Name: movie_title, Length: 5043, dtype: object"
      ]
     },
     "execution_count": 2,
     "metadata": {},
     "output_type": "execute_result"
    }
   ],
   "source": [
    "# read and create dataframe\n",
    "\n",
    "movie_load = 'movie_data.csv'\n",
    "#movie_load = os.path.join('movie_data.csv')\n",
    "movie_df = pd.read_csv(movie_load)\n",
    "movie_df.columns\n",
    "movie_df[\"movie_title\"]\n"
   ]
  },
  {
   "cell_type": "code",
   "execution_count": null,
   "metadata": {},
   "outputs": [],
   "source": []
  },
  {
   "cell_type": "code",
   "execution_count": null,
   "metadata": {},
   "outputs": [],
   "source": []
  }
 ],
 "metadata": {
  "kernelspec": {
   "display_name": "Python 3",
   "language": "python",
   "name": "python3"
  },
  "language_info": {
   "codemirror_mode": {
    "name": "ipython",
    "version": 3
   },
   "file_extension": ".py",
   "mimetype": "text/x-python",
   "name": "python",
   "nbconvert_exporter": "python",
   "pygments_lexer": "ipython3",
   "version": "3.6.5"
  }
 },
 "nbformat": 4,
 "nbformat_minor": 2
}
